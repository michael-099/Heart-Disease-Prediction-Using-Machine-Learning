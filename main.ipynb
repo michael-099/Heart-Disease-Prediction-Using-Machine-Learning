{
 "cells": [
  {
   "cell_type": "code",
   "execution_count": 11,
   "metadata": {},
   "outputs": [
    {
     "name": "stdout",
     "output_type": "stream",
     "text": [
      "c:\\Users\\micha\\anaconda3\\python.exe\n"
     ]
    }
   ],
   "source": [
    "import sys\n",
    "print(sys.executable)\n",
    "\n",
    "import pandas as pd\n",
    "import numpy as np\n",
    "import matplotlib.pyplot as plt\n",
    "import seaborn as sns\n",
    "\n",
    "from sklearn.model_selection import train_test_split\n",
    "from sklearn.ensemble import RandomForestClassifier\n",
    "from sklearn.metrics import classification_report, confusion_matrix, accuracy_score\n"
   ]
  },
  {
   "cell_type": "code",
   "execution_count": 10,
   "metadata": {},
   "outputs": [
    {
     "name": "stdout",
     "output_type": "stream",
     "text": [
      "<class 'pandas.core.frame.DataFrame'>\n",
      "RangeIndex: 303 entries, 0 to 302\n",
      "Data columns (total 14 columns):\n",
      " #   Column    Non-Null Count  Dtype  \n",
      "---  ------    --------------  -----  \n",
      " 0   age       303 non-null    int64  \n",
      " 1   sex       303 non-null    int64  \n",
      " 2   cp        303 non-null    int64  \n",
      " 3   trestbps  303 non-null    int64  \n",
      " 4   chol      303 non-null    int64  \n",
      " 5   fbs       303 non-null    int64  \n",
      " 6   restecg   303 non-null    int64  \n",
      " 7   thalach   303 non-null    int64  \n",
      " 8   exang     303 non-null    int64  \n",
      " 9   oldpeak   303 non-null    float64\n",
      " 10  slope     303 non-null    int64  \n",
      " 11  ca        303 non-null    int64  \n",
      " 12  thal      303 non-null    int64  \n",
      " 13  target    303 non-null    int64  \n",
      "dtypes: float64(1), int64(13)\n",
      "memory usage: 33.3 KB\n"
     ]
    },
    {
     "data": {
      "text/plain": [
       "(None,\n",
       "    age  sex  cp  trestbps  chol  fbs  restecg  thalach  exang  oldpeak  slope  \\\n",
       " 0   63    1   3       145   233    1        0      150      0      2.3      0   \n",
       " 1   37    1   2       130   250    0        1      187      0      3.5      0   \n",
       " 2   41    0   1       130   204    0        0      172      0      1.4      2   \n",
       " 3   56    1   1       120   236    0        1      178      0      0.8      2   \n",
       " 4   57    0   0       120   354    0        1      163      1      0.6      2   \n",
       " \n",
       "    ca  thal  target  \n",
       " 0   0     1       1  \n",
       " 1   0     2       1  \n",
       " 2   0     2       1  \n",
       " 3   0     2       1  \n",
       " 4   0     2       1  ,\n",
       "               age         sex          cp    trestbps        chol         fbs  \\\n",
       " count  303.000000  303.000000  303.000000  303.000000  303.000000  303.000000   \n",
       " mean    54.366337    0.683168    0.966997  131.623762  246.264026    0.148515   \n",
       " std      9.082101    0.466011    1.032052   17.538143   51.830751    0.356198   \n",
       " min     29.000000    0.000000    0.000000   94.000000  126.000000    0.000000   \n",
       " 25%     47.500000    0.000000    0.000000  120.000000  211.000000    0.000000   \n",
       " 50%     55.000000    1.000000    1.000000  130.000000  240.000000    0.000000   \n",
       " 75%     61.000000    1.000000    2.000000  140.000000  274.500000    0.000000   \n",
       " max     77.000000    1.000000    3.000000  200.000000  564.000000    1.000000   \n",
       " \n",
       "           restecg     thalach       exang     oldpeak       slope          ca  \\\n",
       " count  303.000000  303.000000  303.000000  303.000000  303.000000  303.000000   \n",
       " mean     0.528053  149.646865    0.326733    1.039604    1.399340    0.729373   \n",
       " std      0.525860   22.905161    0.469794    1.161075    0.616226    1.022606   \n",
       " min      0.000000   71.000000    0.000000    0.000000    0.000000    0.000000   \n",
       " 25%      0.000000  133.500000    0.000000    0.000000    1.000000    0.000000   \n",
       " 50%      1.000000  153.000000    0.000000    0.800000    1.000000    0.000000   \n",
       " 75%      1.000000  166.000000    1.000000    1.600000    2.000000    1.000000   \n",
       " max      2.000000  202.000000    1.000000    6.200000    2.000000    4.000000   \n",
       " \n",
       "              thal      target  \n",
       " count  303.000000  303.000000  \n",
       " mean     2.313531    0.544554  \n",
       " std      0.612277    0.498835  \n",
       " min      0.000000    0.000000  \n",
       " 25%      2.000000    0.000000  \n",
       " 50%      2.000000    1.000000  \n",
       " 75%      3.000000    1.000000  \n",
       " max      3.000000    1.000000  )"
      ]
     },
     "execution_count": 10,
     "metadata": {},
     "output_type": "execute_result"
    }
   ],
   "source": [
    "file_path = 'heart.csv'\n",
    "data = pd.read_csv(file_path)\n",
    "\n",
    "data_info = data.info()\n",
    "data_head = data.head()\n",
    "data_describe = data.describe()\n",
    "data_info, data_head, data_describe"
   ]
  }
 ],
 "metadata": {
  "kernelspec": {
   "display_name": "Python (heart_disease_env)",
   "language": "python",
   "name": "heart_disease_env"
  },
  "language_info": {
   "codemirror_mode": {
    "name": "ipython",
    "version": 3
   },
   "file_extension": ".py",
   "mimetype": "text/x-python",
   "name": "python",
   "nbconvert_exporter": "python",
   "pygments_lexer": "ipython3",
   "version": "3.12.7"
  }
 },
 "nbformat": 4,
 "nbformat_minor": 2
}
